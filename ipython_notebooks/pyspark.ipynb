{
  "metadata": {
    "kernelspec": {
      "display_name": "Python in eks-default (builtin env)",
      "language": "python",
      "name": "py-dku-containerized-venv--eks-default"
    },
    "creator": "admin",
    "createdOn": 1621070589088,
    "tags": [],
    "customFields": {}
  },
  "nbformat": 4,
  "nbformat_minor": 0,
  "cells": [
    {
      "execution_count": 0,
      "cell_type": "code",
      "metadata": {},
      "source": [
        "%pylab inline"
      ],
      "outputs": []
    },
    {
      "execution_count": 0,
      "cell_type": "code",
      "metadata": {},
      "source": [
        "import dataiku\n",
        "import dataiku.spark as dkuspark\n",
        "import pyspark\n",
        "from pyspark.sql import SQLContext"
      ],
      "outputs": []
    },
    {
      "execution_count": 0,
      "cell_type": "code",
      "metadata": {},
      "source": [
        "# Load PySpark\n",
        "sc \u003d pyspark.SparkContext.getOrCreate()\n",
        "sqlContext \u003d SQLContext(sc)"
      ],
      "outputs": []
    },
    {
      "execution_count": 0,
      "cell_type": "code",
      "metadata": {},
      "source": [
        "# Example: Read the descriptor of a Dataiku dataset\n",
        "mydataset \u003d dataiku.Dataset(\"mydataset\")\n",
        "# And read it as a Spark dataframe\n",
        "df \u003d dkuspark.get_dataframe(sqlContext, mydataset)"
      ],
      "outputs": []
    },
    {
      "execution_count": 0,
      "cell_type": "code",
      "metadata": {},
      "source": [
        "# Example: Get the count of records in the dataframe\n",
        "df.count()"
      ],
      "outputs": []
    }
  ]
}